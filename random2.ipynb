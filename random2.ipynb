{
 "cells": [
  {
   "cell_type": "code",
   "execution_count": 1,
   "metadata": {
    "collapsed": true
   },
   "outputs": [],
   "source": [
    "from itertools import groupby\n",
    "import tensorflow as tf\n",
    "import random\n",
    "import torch\n",
    "import numpy as np\n",
    "####### READING THE FASTA CHAIN DATA FROM THE FILE ############\n",
    "\n",
    "def fasta_iter(name):\n",
    "    fh = open(name)\n",
    "\n",
    "    faiter = (x[1] for x in groupby(fh, lambda line: line[0] == \">\"))\n",
    "\n",
    "    for header in faiter:\n",
    "        # drop the \">\"\n",
    "        headerStr = header.__next__()[1:].strip()\n",
    "\n",
    "        seq = \"\".join(s.strip() for s in faiter.__next__())\n",
    "\n",
    "        yield (headerStr, seq)\n",
    "\n",
    "data=fasta_iter(\"Ecoli_prom.fa.txt\")\n",
    "training_data=[]\n",
    "\n",
    "######## CONVERTING DNA SEQUENCE INTO ONE HOT ENCODING ##########\n",
    "\n",
    "for chain in data:\n",
    "    headerStr, seq = chain\n",
    "    #print(seq)\n",
    "    temp=[]\n",
    "    for i in seq:\n",
    "        if(i=='A'):\n",
    "            temp.append([1,0,0,0])\n",
    "        if(i=='T'):\n",
    "            temp.append([0,1,0,0])\n",
    "        if(i=='G'):\n",
    "            temp.append([0,0,1,0])\n",
    "        if(i=='C'):\n",
    "            temp.append([0,0,0,1])\n",
    "    \n",
    "    training_data.append(temp)\n",
    "       \n",
    "    \n",
    "    \n",
    "data=fasta_iter(\"Ecoli_non_prom.fa.txt\")\n",
    "for chain in data:\n",
    "    headerStr, seq = chain\n",
    "    temp=[]\n",
    "    for i in seq:\n",
    "        if(i=='A'):\n",
    "            temp.append([1,0,0,0])\n",
    "        if(i=='T'):\n",
    "            temp.append([0,1,0,0])\n",
    "        if(i=='G'):\n",
    "            temp.append([0,0,1,0])\n",
    "        if(i=='C'):\n",
    "            temp.append([0,0,0,1])\n",
    "        \n",
    "    training_data.append(temp)\n",
    "\n",
    "#training_data"
   ]
  },
  {
   "cell_type": "code",
   "execution_count": 2,
   "metadata": {},
   "outputs": [
    {
     "name": "stdout",
     "output_type": "stream",
     "text": [
      "(3839, 81, 4)\n",
      "(3839,)\n",
      "(3839, 324)\n"
     ]
    }
   ],
   "source": [
    "########### CREATING LABELS FOR THE OUTPUT ###########\n",
    "labels=[]\n",
    "for i in range(839):\n",
    "    labels.append(1)\n",
    "for i in range(3000):\n",
    "    labels.append(0)\n",
    "\n",
    "#### SHUFFLE THE DATA ########    \n",
    "\n",
    "comb=list(zip(training_data,labels))\n",
    "import time\n",
    "random.seed(time.time())\n",
    "\n",
    "random.shuffle(comb)\n",
    "training_data,labels=zip(*comb)\n",
    "\n",
    "\n",
    "print(np.shape(training_data))\n",
    "print(np.shape(labels))\n",
    "\n",
    "training_data=np.reshape(training_data,(3839,81*4))\n",
    "\n",
    "print(np.shape(training_data))\n"
   ]
  },
  {
   "cell_type": "code",
   "execution_count": 3,
   "metadata": {
    "collapsed": true
   },
   "outputs": [],
   "source": [
    "####### SPLITTING DATA INTO TRAIN,VALIDATION AND TEST ############\n",
    "X_train=training_data[:3000]\n",
    "Y_train=labels[:3000]\n",
    "\n",
    "X_valid=training_data[3000:3400]\n",
    "Y_valid=labels[3000:3400]\n",
    "\n",
    "\n",
    "\n",
    "X_test=training_data[3400:]\n",
    "Y_test=labels[3400:]"
   ]
  },
  {
   "cell_type": "code",
   "execution_count": 4,
   "metadata": {},
   "outputs": [
    {
     "name": "stderr",
     "output_type": "stream",
     "text": [
      "/home/vinayak/anaconda3/lib/python3.6/site-packages/sklearn/ensemble/weight_boosting.py:29: DeprecationWarning: numpy.core.umath_tests is an internal NumPy module and should not be imported. It will be removed in a future NumPy release.\n",
      "  from numpy.core.umath_tests import inner1d\n",
      "/home/vinayak/anaconda3/lib/python3.6/site-packages/sklearn/cross_validation.py:41: DeprecationWarning: This module was deprecated in version 0.18 in favor of the model_selection module into which all the refactored classes and functions are moved. Also note that the interface of the new CV iterators are different from that of this module. This module will be removed in 0.20.\n",
      "  \"This module will be removed in 0.20.\", DeprecationWarning)\n",
      "/home/vinayak/anaconda3/lib/python3.6/site-packages/sklearn/grid_search.py:42: DeprecationWarning: This module was deprecated in version 0.18 in favor of the model_selection module into which all the refactored classes and functions are moved. This module will be removed in 0.20.\n",
      "  DeprecationWarning)\n"
     ]
    }
   ],
   "source": [
    "from sklearn.ensemble import RandomForestClassifier\n",
    "from sklearn.datasets import make_classification\n",
    "from sklearn.metrics import accuracy_score\n",
    "from sklearn.grid_search import GridSearchCV\n"
   ]
  },
  {
   "cell_type": "code",
   "execution_count": 5,
   "metadata": {
    "collapsed": true
   },
   "outputs": [],
   "source": [
    "\n",
    "# parameters1 = {\n",
    "#               'min_samples_leaf': [1,2,3], \n",
    "#               'n_estimators': [30,400]\n",
    "#              }\n",
    "# rfc = RandomForestClassifier(random_state=42)\n",
    "# RF_model = GridSearchCV(estimator=rfc,param_grid=parameters1,cv=5)\n",
    "# RF_model.fit(X_train,Y_train)\n",
    "\n",
    "\n"
   ]
  },
  {
   "cell_type": "code",
   "execution_count": 6,
   "metadata": {},
   "outputs": [
    {
     "data": {
      "text/plain": [
       "RandomForestClassifier(bootstrap=True, class_weight=None, criterion='gini',\n",
       "            max_depth=6, max_features=None, max_leaf_nodes=None,\n",
       "            min_impurity_decrease=0.0, min_impurity_split=None,\n",
       "            min_samples_leaf=3, min_samples_split=4,\n",
       "            min_weight_fraction_leaf=0.0, n_estimators=200, n_jobs=1,\n",
       "            oob_score=False, random_state=None, verbose=0, warm_start=True)"
      ]
     },
     "execution_count": 6,
     "metadata": {},
     "output_type": "execute_result"
    }
   ],
   "source": [
    "parameters = {'bootstrap': True,\n",
    "              'min_samples_leaf': 3,\n",
    "              'n_estimators': 200,\n",
    "              'min_samples_split': 4,\n",
    "              'max_features': None,\n",
    "              'max_depth': 6,\n",
    "              'warm_start':True\n",
    "             }\n",
    "\n",
    "RF_model = RandomForestClassifier(**parameters)\n",
    "RF_model.fit(X_train, Y_train)\n"
   ]
  },
  {
   "cell_type": "code",
   "execution_count": 7,
   "metadata": {},
   "outputs": [
    {
     "name": "stdout",
     "output_type": "stream",
     "text": [
      "90.96666666666667\n"
     ]
    }
   ],
   "source": [
    "RF_predictions = RF_model.predict(X_train)\n",
    "score = accuracy_score(Y_train ,RF_predictions)\n",
    "print(score*100)"
   ]
  },
  {
   "cell_type": "code",
   "execution_count": 8,
   "metadata": {},
   "outputs": [
    {
     "name": "stdout",
     "output_type": "stream",
     "text": [
      "89.5\n"
     ]
    }
   ],
   "source": [
    "RF_predictions = RF_model.predict(X_valid)\n",
    "score = accuracy_score(Y_valid ,RF_predictions)\n",
    "print(score*100)"
   ]
  },
  {
   "cell_type": "code",
   "execution_count": 9,
   "metadata": {},
   "outputs": [
    {
     "name": "stdout",
     "output_type": "stream",
     "text": [
      "88.15489749430525\n"
     ]
    }
   ],
   "source": [
    "RF_predictions = RF_model.predict(X_test)\n",
    "score = accuracy_score(Y_test ,RF_predictions)\n",
    "print(score*100)"
   ]
  },
  {
   "cell_type": "markdown",
   "metadata": {},
   "source": [
    "##### "
   ]
  }
 ],
 "metadata": {
  "kernelspec": {
   "display_name": "Python 3",
   "language": "python",
   "name": "python3"
  },
  "language_info": {
   "codemirror_mode": {
    "name": "ipython",
    "version": 3
   },
   "file_extension": ".py",
   "mimetype": "text/x-python",
   "name": "python",
   "nbconvert_exporter": "python",
   "pygments_lexer": "ipython3",
   "version": "3.6.7"
  }
 },
 "nbformat": 4,
 "nbformat_minor": 2
}
