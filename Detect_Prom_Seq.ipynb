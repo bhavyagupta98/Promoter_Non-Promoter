{
 "cells": [
  {
   "cell_type": "code",
   "execution_count": 1,
   "metadata": {
    "collapsed": true
   },
   "outputs": [],
   "source": [
    "from itertools import groupby\n",
    "import tensorflow as tf\n",
    "import random\n",
    "import torch\n",
    "import numpy as np\n",
    "####### READING THE FASTA CHAIN DATA FROM THE FILE ############\n",
    "\n",
    "def fasta_iter(name):\n",
    "    fh = open(name)\n",
    "\n",
    "    faiter = (x[1] for x in groupby(fh, lambda line: line[0] == \">\"))\n",
    "\n",
    "    for header in faiter:\n",
    "        # drop the \">\"\n",
    "        headerStr = header.__next__()[1:].strip()\n",
    "\n",
    "        # join all sequence lines to one.\n",
    "        seq = \"\".join(s.strip() for s in faiter.__next__())\n",
    "\n",
    "        yield (headerStr, seq)\n",
    "\n",
    "data=fasta_iter(\"Ecoli_prom.fa.txt\")\n",
    "training_data=[]\n",
    "\n",
    "######## CONVERTING DNA SEQUENCE INTO ONE HOT ENCODING ##########\n",
    "\n",
    "for chain in data:\n",
    "    headerStr, seq = chain\n",
    "    #print(seq)\n",
    "    temp=[]\n",
    "    for i in seq:\n",
    "        if(i=='A'):\n",
    "            temp.append([1,0,0,0])\n",
    "        if(i=='T'):\n",
    "            temp.append([0,1,0,0])\n",
    "        if(i=='G'):\n",
    "            temp.append([0,0,1,0])\n",
    "        if(i=='C'):\n",
    "            temp.append([0,0,0,1])\n",
    "    \n",
    "    training_data.append(temp)\n",
    "       \n",
    "    \n",
    "    \n",
    "data=fasta_iter(\"Ecoli_non_prom.fa.txt\")\n",
    "for chain in data:\n",
    "    headerStr, seq = chain\n",
    "    temp=[]\n",
    "    for i in seq:\n",
    "        if(i=='A'):\n",
    "            temp.append([1,0,0,0])\n",
    "        if(i=='T'):\n",
    "            temp.append([0,1,0,0])\n",
    "        if(i=='G'):\n",
    "            temp.append([0,0,1,0])\n",
    "        if(i=='C'):\n",
    "            temp.append([0,0,0,1])\n",
    "        \n",
    "    training_data.append(temp)\n",
    "\n"
   ]
  },
  {
   "cell_type": "code",
   "execution_count": 2,
   "metadata": {},
   "outputs": [
    {
     "name": "stdout",
     "output_type": "stream",
     "text": [
      "(3839, 81, 4)\n",
      "(3839,)\n",
      "(3839, 81, 1, 4)\n"
     ]
    }
   ],
   "source": [
    "########### CREATING LABELS FOR THE OUTPUT ###########\n",
    "labels=[]\n",
    "for i in range(839):\n",
    "    labels.append(1)\n",
    "for i in range(3000):\n",
    "    labels.append(0)\n",
    "\n",
    "#### SHUFFLE THE DATA ########    \n",
    "\n",
    "comb=list(zip(training_data,labels))\n",
    "random.shuffle(comb)\n",
    "training_data,labels=zip(*comb)\n",
    "\n",
    "\n",
    "print(np.shape(training_data))\n",
    "print(np.shape(labels))\n",
    "\n",
    "training_data=np.reshape(training_data,(3839,81,1,4))\n",
    "\n",
    "print(np.shape(training_data))\n"
   ]
  },
  {
   "cell_type": "code",
   "execution_count": 3,
   "metadata": {
    "collapsed": true
   },
   "outputs": [],
   "source": [
    "####### SPLITTING DATA INTO TRAIN,VALIDATION AND TEST ############\n",
    "X_train=training_data[:3000]\n",
    "Y_train=labels[:3000]\n",
    "\n",
    "X_valid=training_data[3000:3400]\n",
    "Y_valid=labels[3000:3400]\n",
    "\n",
    "X_test=training_data[3400:]\n",
    "Y_test=labels[3400:]"
   ]
  },
  {
   "cell_type": "code",
   "execution_count": 4,
   "metadata": {},
   "outputs": [
    {
     "name": "stderr",
     "output_type": "stream",
     "text": [
      "/home/vinayak/anaconda3/lib/python3.6/site-packages/h5py/__init__.py:34: FutureWarning: Conversion of the second argument of issubdtype from `float` to `np.floating` is deprecated. In future, it will be treated as `np.float64 == np.dtype(float).type`.\n",
      "  from ._conv import register_converters as _register_converters\n",
      "Using TensorFlow backend.\n"
     ]
    }
   ],
   "source": [
    "#one-hot encode target column\n",
    "from keras.utils import to_categorical\n",
    "\n",
    "y_train = to_categorical(Y_train)\n",
    "y_test = to_categorical(Y_test)\n",
    "y_valid =to_categorical(Y_valid)\n"
   ]
  },
  {
   "cell_type": "code",
   "execution_count": 5,
   "metadata": {
    "collapsed": true
   },
   "outputs": [],
   "source": [
    "###### CREATING MODEL ############\n",
    "from keras.models import Sequential\n",
    "from keras.layers import Dense, Conv2D, Flatten, MaxPooling2D, Activation\n",
    "\n",
    "model = Sequential()\n",
    "#add model layers\n",
    "model.add(Conv2D(200, kernel_size=(21,1), input_shape=(81,1,4),strides=2))\n",
    "model.add(MaxPooling2D(pool_size=(31,1)))\n",
    "model.add(Activation('relu'))\n",
    "model.add(Flatten())\n",
    "model.add(Dense(128,activation=\"relu\"))\n",
    "model.add(Dense(2, activation='sigmoid'))"
   ]
  },
  {
   "cell_type": "code",
   "execution_count": 6,
   "metadata": {
    "collapsed": true
   },
   "outputs": [],
   "source": [
    "#### USING ADAM'S OPTIMIZER AND COMPUTING CROSS-ENTROPY LOSS ########\n",
    "model.compile(optimizer='adam', loss='categorical_crossentropy', metrics=['accuracy'])"
   ]
  },
  {
   "cell_type": "code",
   "execution_count": 7,
   "metadata": {},
   "outputs": [
    {
     "name": "stdout",
     "output_type": "stream",
     "text": [
      "Train on 3000 samples, validate on 400 samples\n",
      "Epoch 1/15\n",
      "3000/3000 [==============================] - 1s 271us/step - loss: 0.4030 - acc: 0.8163 - val_loss: 0.3515 - val_acc: 0.8500\n",
      "Epoch 2/15\n",
      "3000/3000 [==============================] - 1s 237us/step - loss: 0.2613 - acc: 0.8903 - val_loss: 0.2971 - val_acc: 0.8700\n",
      "Epoch 3/15\n",
      "3000/3000 [==============================] - 1s 224us/step - loss: 0.2000 - acc: 0.9197 - val_loss: 0.2860 - val_acc: 0.8750\n",
      "Epoch 4/15\n",
      "3000/3000 [==============================] - 1s 241us/step - loss: 0.1543 - acc: 0.9423 - val_loss: 0.3079 - val_acc: 0.8675\n",
      "Epoch 5/15\n",
      "3000/3000 [==============================] - 1s 231us/step - loss: 0.1017 - acc: 0.9677 - val_loss: 0.2864 - val_acc: 0.8850\n",
      "Epoch 6/15\n",
      "3000/3000 [==============================] - 1s 225us/step - loss: 0.0601 - acc: 0.9850 - val_loss: 0.2891 - val_acc: 0.8975\n",
      "Epoch 7/15\n",
      "3000/3000 [==============================] - 1s 223us/step - loss: 0.0347 - acc: 0.9930 - val_loss: 0.3244 - val_acc: 0.8725\n",
      "Epoch 8/15\n",
      "3000/3000 [==============================] - 1s 221us/step - loss: 0.0230 - acc: 0.9973 - val_loss: 0.3053 - val_acc: 0.8925\n",
      "Epoch 9/15\n",
      "3000/3000 [==============================] - 1s 230us/step - loss: 0.0130 - acc: 0.9983 - val_loss: 0.3217 - val_acc: 0.8925\n",
      "Epoch 10/15\n",
      "3000/3000 [==============================] - 1s 225us/step - loss: 0.0109 - acc: 0.9987 - val_loss: 0.3384 - val_acc: 0.8875\n",
      "Epoch 11/15\n",
      "3000/3000 [==============================] - 1s 241us/step - loss: 0.0069 - acc: 0.9990 - val_loss: 0.4808 - val_acc: 0.8650\n",
      "Epoch 12/15\n",
      "3000/3000 [==============================] - 1s 225us/step - loss: 0.0110 - acc: 0.9983 - val_loss: 0.3940 - val_acc: 0.8800\n",
      "Epoch 13/15\n",
      "3000/3000 [==============================] - 1s 231us/step - loss: 0.0123 - acc: 0.9980 - val_loss: 0.4580 - val_acc: 0.8800\n",
      "Epoch 14/15\n",
      "3000/3000 [==============================] - 1s 233us/step - loss: 0.0079 - acc: 0.9990 - val_loss: 0.4652 - val_acc: 0.8825\n",
      "Epoch 15/15\n",
      "3000/3000 [==============================] - 1s 233us/step - loss: 0.0040 - acc: 0.9997 - val_loss: 0.4204 - val_acc: 0.8825\n"
     ]
    }
   ],
   "source": [
    "####### TRAINING FOR 25 EPOCHS ##########\n",
    "history=model.fit(X_train, y_train, validation_data=(X_valid, y_valid), epochs=15)"
   ]
  },
  {
   "cell_type": "code",
   "execution_count": 8,
   "metadata": {
    "collapsed": true
   },
   "outputs": [],
   "source": [
    "#PREDICTING THE OUTPUT\n",
    "output=model.predict(X_test)\n",
    "for i in range(len(output)):\n",
    "    if (output[i][0]>output[i][1]):\n",
    "        output[i][0]=1\n",
    "        output[i][1]=0\n",
    "    else:\n",
    "        output[i][0]=0\n",
    "        output[i][1]=1"
   ]
  },
  {
   "cell_type": "code",
   "execution_count": 9,
   "metadata": {
    "collapsed": true
   },
   "outputs": [],
   "source": [
    "# CALCULATING ACCURACY\n",
    "true_count=0\n",
    "for i in range(len(output)):\n",
    "    if output[i][0]==y_test[i][0]:\n",
    "        true_count+=1\n",
    "acc=true_count/len(output)*100"
   ]
  },
  {
   "cell_type": "code",
   "execution_count": 10,
   "metadata": {},
   "outputs": [
    {
     "name": "stdout",
     "output_type": "stream",
     "text": [
      "Accuracy:  93.62186788154897\n"
     ]
    }
   ],
   "source": [
    "print(\"Accuracy: \",acc)"
   ]
  },
  {
   "cell_type": "code",
   "execution_count": 11,
   "metadata": {},
   "outputs": [
    {
     "data": {
      "image/png": "[encoded data removed]",
      "text/plain": [
       "<matplotlib.figure.Figure at 0x7f40e030c2b0>"
      ]
     },
     "metadata": {},
     "output_type": "display_data"
    },
    {
     "data": {
      "image/png": "[encoded data removed]",
      "text/plain": [
       "<matplotlib.figure.Figure at 0x7f4047d3f8d0>"
      ]
     },
     "metadata": {},
     "output_type": "display_data"
    }
   ],
   "source": [
    "import matplotlib.pyplot as plt\n",
    "\n",
    "# summarize history for accuracy\n",
    "plt.plot(history.history['acc'])\n",
    "plt.plot(history.history['val_acc'])\n",
    "plt.title('model accuracy')\n",
    "plt.ylabel('accuracy')\n",
    "plt.xlabel('epoch')\n",
    "plt.legend(['train', 'val'], loc='upper left')\n",
    "plt.show()\n",
    "# summarize history for loss\n",
    "plt.plot(history.history['loss'])\n",
    "plt.plot(history.history['val_loss'])\n",
    "plt.title('model loss')\n",
    "plt.ylabel('loss')\n",
    "plt.xlabel('epoch')\n",
    "plt.legend(['train', 'val'], loc='upper left')\n",
    "plt.show()"
   ]
  },
  {
   "cell_type": "code",
   "execution_count": null,
   "metadata": {
    "collapsed": true
   },
   "outputs": [],
   "source": []
  }
 ],
 "metadata": {
  "kernelspec": {
   "display_name": "Python 3",
   "language": "python",
   "name": "python3"
  },
  "language_info": {
   "codemirror_mode": {
    "name": "ipython",
    "version": 3
   },
   "file_extension": ".py",
   "mimetype": "text/x-python",
   "name": "python",
   "nbconvert_exporter": "python",
   "pygments_lexer": "ipython3",
   "version": "3.6.7"
  }
 },
 "nbformat": 4,
 "nbformat_minor": 2
}
