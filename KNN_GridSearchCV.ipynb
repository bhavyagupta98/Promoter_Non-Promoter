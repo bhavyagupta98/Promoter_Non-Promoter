{
 "cells": [
  {
   "cell_type": "code",
   "execution_count": 1,
   "metadata": {
    "collapsed": true
   },
   "outputs": [],
   "source": [
    "list_features = []\n",
    "for i in range (0,4):\n",
    "    for j in range (0,4):\n",
    "        for k in range (0,4):\n",
    "            for w in range (0,4):\n",
    "                list_features.append([i,j,k,w])\n",
    "#print (np.shape(list_features))"
   ]
  },
  {
   "cell_type": "code",
   "execution_count": 2,
   "metadata": {
    "collapsed": true
   },
   "outputs": [],
   "source": [
    "from itertools import groupby\n",
    "import tensorflow as tf\n",
    "import random\n",
    "import torch\n",
    "import numpy as np\n",
    "####### READING THE FASTA CHAIN DATA FROM THE FILE ############\n",
    "def fasta_iter(name):\n",
    "    fh = open(name)\n",
    "\n",
    "    faiter = (x[1] for x in groupby(fh, lambda line: line[0] == \">\"))\n",
    "\n",
    "    for header in faiter:\n",
    "        # drop the \">\"\n",
    "        headerStr = header.__next__()[1:].strip()\n",
    "\n",
    "        # join all sequence lines to one.\n",
    "        seq = \"\".join(s.strip() for s in faiter.__next__())\n",
    "\n",
    "        yield (headerStr, seq)\n",
    "\n",
    "data=fasta_iter(\"Ecoli_prom.fa.txt\")\n",
    "training_data1=[]\n",
    "training_data2=[]\n",
    "\n",
    "\n",
    "######## CONVERTING DNA SEQUENCE INTO ONE HOT ENCODING ##########\n",
    "\n",
    "for chain in data:\n",
    "    headerStr, seq = chain\n",
    "    temp=[]\n",
    "    for i in range (len(seq)-4):\n",
    "        temp1 = []\n",
    "        for j in range (0,4):\n",
    "            if(seq[i+j]=='A'):\n",
    "                temp1.append(0)\n",
    "            if(seq[i+j]=='T'):\n",
    "                temp1.append(1)\n",
    "            if(seq[i+j]=='G'):\n",
    "                temp1.append(2)\n",
    "            if(seq[i+j]=='C'):\n",
    "                temp1.append(3)\n",
    "        temp.append(temp1)\n",
    "    training_data1.append(temp)\n",
    "       \n",
    "    \n",
    "    \n",
    "data=fasta_iter(\"Ecoli_non_prom.fa.txt\")\n",
    "for chain in data:\n",
    "    headerStr, seq = chain\n",
    "    temp=[]\n",
    "    for i in range (len(seq)-4):\n",
    "        temp1 = []\n",
    "        for j in range (0,4):\n",
    "            if(seq[i+j]=='A'):\n",
    "                temp1.append(0)\n",
    "            if(seq[i+j]=='T'):\n",
    "                temp1.append(1)\n",
    "            if(seq[i+j]=='G'):\n",
    "                temp1.append(2)\n",
    "            if(seq[i+j]=='C'):\n",
    "                temp1.append(3)\n",
    "        #print (temp1)\n",
    "        temp.append(temp1)\n",
    "    training_data2.append(temp)\n",
    "#training_data\n",
    "list_freq1 = []\n",
    "list_freq2 = []\n",
    "\n",
    "for i in training_data1:\n",
    "    temp = []\n",
    "    for j in range (len(list_features)):\n",
    "        temp.append(0)\n",
    "    for j in i:\n",
    "        for k in range (len(list_features)):\n",
    "            if (list_features[k]==j):\n",
    "                temp[k] += 1\n",
    "    list_freq1.append(temp)\n",
    "    \n",
    "for i in training_data2:\n",
    "    temp = []\n",
    "    for j in range (len(list_features)):\n",
    "        temp.append(0)\n",
    "    for j in i:\n",
    "        for k in range (len(list_features)):\n",
    "            if (list_features[k]==j):\n",
    "                temp[k] += 1\n",
    "    list_freq2.append(temp)    "
   ]
  },
  {
   "cell_type": "code",
   "execution_count": 3,
   "metadata": {},
   "outputs": [
    {
     "name": "stdout",
     "output_type": "stream",
     "text": [
      "(839, 256)\n",
      "(839,)\n"
     ]
    }
   ],
   "source": [
    "########### CREATING LABELS FOR THE OUTPUT ###########\n",
    "labels1=[]\n",
    "labels2=[]\n",
    "\n",
    "for i in range(839):\n",
    "    labels1.append(1)\n",
    "for i in range(3000):\n",
    "    labels2.append(0)\n",
    "\n",
    "#### SHUFFLE THE DATA ########    \n",
    "\n",
    "comb=list(zip(list_freq1,labels1))\n",
    "random.shuffle(comb)\n",
    "list_freq1,labels1=zip(*comb)\n",
    "\n",
    "comb=list(zip(list_freq2,labels2))\n",
    "random.shuffle(comb)\n",
    "list_freq2,labels2=zip(*comb)\n",
    "\n",
    "print(np.shape(list_freq1))\n",
    "print(np.shape(labels1))\n",
    "\n",
    "#training_data=np.reshape(training_data,(3839,77*16))\n",
    "\n",
    "#print(np.shape(training_data))\n"
   ]
  },
  {
   "cell_type": "code",
   "execution_count": 4,
   "metadata": {
    "collapsed": true
   },
   "outputs": [],
   "source": [
    "####### SPLITTING DATA INTO TRAIN,VALIDATION AND TEST ############\n",
    "X_train=list()\n",
    "Y_train=list()\n",
    "for i in range(649):\n",
    "    X_train.append(list_freq1[i])\n",
    "    Y_train.append(labels1[i])\n",
    "for i in range(2480):\n",
    "    X_train.append(list_freq2[i])\n",
    "    Y_train.append(labels2[i])\n",
    "\n",
    "\n",
    "# X_train.append(list(list_freq1[:649]))\n",
    "# Y_train.append(list(labels1[:649]))\n",
    "# X_train.append(list(list_freq2[:2480]))\n",
    "# Y_train.append(list(labels2[:2480]))\n",
    "\n",
    "comb=list(zip(X_train,Y_train))\n",
    "random.shuffle(comb)\n",
    "X_train,Y_train=zip(*comb)\n",
    "\n",
    "X_validation=[]\n",
    "Y_validation=[]\n",
    "\n",
    "for i in range(649,720):\n",
    "    X_validation.append(list_freq1[i])\n",
    "    Y_validation.append(labels1[i])\n",
    "for i in range(2480,2740):\n",
    "    X_validation.append(list_freq2[i])\n",
    "    Y_validation.append(labels2[i])\n",
    "# X_validation.append(list_freq1[649:720])\n",
    "# Y_validation.append(labels1[:720])\n",
    "# X_validation.append(list_freq2[2480:2740])\n",
    "# Y_validation.append(labels2[2480:2740])\n",
    "\n",
    "comb=list(zip(X_validation,Y_validation))\n",
    "random.shuffle(comb)\n",
    "X_validation,Y_validation=zip(*comb)\n",
    "\n",
    "X_test=[]\n",
    "Y_test=[]\n",
    "for i in range(720,839):\n",
    "    X_test.append(list_freq1[i])\n",
    "    Y_test.append(labels1[i])\n",
    "for i in range(2740,3000):\n",
    "    X_test.append(list_freq2[i])\n",
    "    Y_test.append(labels2[i])\n",
    "# X_test.append(list_freq1[720:])\n",
    "# Y_test.append(labels1[720:])\n",
    "# X_test.append(list_freq2[2740:])\n",
    "# Y_test.append(labels2[2740:])\n",
    "\n",
    "comb=list(zip(X_test,Y_test))\n",
    "random.shuffle(comb)\n",
    "X_test,Y_test=zip(*comb)\n",
    "\n",
    "\n",
    "# X_train=list(X_train)\n",
    "# np.shape(X_train)"
   ]
  },
  {
   "cell_type": "code",
   "execution_count": 5,
   "metadata": {
    "collapsed": true
   },
   "outputs": [],
   "source": [
    "from sklearn.neighbors import KNeighborsClassifier\n",
    "from sklearn.metrics import accuracy_score\n",
    "from sklearn.model_selection import GridSearchCV\n"
   ]
  },
  {
   "cell_type": "code",
   "execution_count": 6,
   "metadata": {},
   "outputs": [
    {
     "data": {
      "text/plain": [
       "KNeighborsClassifier(algorithm='brute', leaf_size=30, metric='minkowski',\n",
       "           metric_params=None, n_jobs=1, n_neighbors=2, p=2,\n",
       "           weights='distance')"
      ]
     },
     "execution_count": 6,
     "metadata": {},
     "output_type": "execute_result"
    }
   ],
   "source": [
    "neigh = KNeighborsClassifier(n_neighbors=2,weights='distance',algorithm='brute')\n",
    "neigh.fit(X_train, Y_train)"
   ]
  },
  {
   "cell_type": "code",
   "execution_count": 7,
   "metadata": {
    "collapsed": true
   },
   "outputs": [],
   "source": [
    "pred=neigh.predict(X_validation)\n",
    "pred1=neigh.predict(X_test)\n"
   ]
  },
  {
   "cell_type": "code",
   "execution_count": 8,
   "metadata": {},
   "outputs": [
    {
     "data": {
      "text/plain": [
       "91.54078549848943"
      ]
     },
     "execution_count": 8,
     "metadata": {},
     "output_type": "execute_result"
    }
   ],
   "source": [
    "score = accuracy_score(Y_validation ,pred)\n",
    "score*100"
   ]
  },
  {
   "cell_type": "code",
   "execution_count": 9,
   "metadata": {},
   "outputs": [
    {
     "data": {
      "text/plain": [
       "87.0712401055409"
      ]
     },
     "execution_count": 9,
     "metadata": {},
     "output_type": "execute_result"
    }
   ],
   "source": [
    "score = accuracy_score(Y_test ,pred1)\n",
    "score*100"
   ]
  },
  {
   "cell_type": "code",
   "execution_count": 10,
   "metadata": {
    "collapsed": true
   },
   "outputs": [],
   "source": [
    "param=[{'algorithm':['brute','ball_tree','kd_tree'], 'leaf_size':[1,10,30,50,100], 'metric':['minkowski'],\n",
    "           'metric_params':[None], 'n_jobs':[1],'n_neighbors':[2], 'p':[1,2],\n",
    "           'weights':['distance','uniform']}]"
   ]
  },
  {
   "cell_type": "code",
   "execution_count": 11,
   "metadata": {
    "collapsed": true
   },
   "outputs": [],
   "source": [
    "clf = GridSearchCV(KNeighborsClassifier(),param, cv=5)\n",
    "clf.fit(X_train,Y_train)\n",
    "\n",
    "param=clf.best_params_"
   ]
  },
  {
   "cell_type": "code",
   "execution_count": 12,
   "metadata": {},
   "outputs": [
    {
     "data": {
      "text/plain": [
       "{'algorithm': 'kd_tree',\n",
       " 'leaf_size': 100,\n",
       " 'metric': 'minkowski',\n",
       " 'metric_params': None,\n",
       " 'n_jobs': 1,\n",
       " 'n_neighbors': 2,\n",
       " 'p': 1,\n",
       " 'weights': 'distance'}"
      ]
     },
     "execution_count": 12,
     "metadata": {},
     "output_type": "execute_result"
    }
   ],
   "source": [
    "param"
   ]
  },
  {
   "cell_type": "code",
   "execution_count": null,
   "metadata": {
    "collapsed": true
   },
   "outputs": [],
   "source": []
  }
 ],
 "metadata": {
  "kernelspec": {
   "display_name": "Python 3",
   "language": "python",
   "name": "python3"
  },
  "language_info": {
   "codemirror_mode": {
    "name": "ipython",
    "version": 3
   },
   "file_extension": ".py",
   "mimetype": "text/x-python",
   "name": "python",
   "nbconvert_exporter": "python",
   "pygments_lexer": "ipython3",
   "version": "3.6.7"
  }
 },
 "nbformat": 4,
 "nbformat_minor": 2
}
